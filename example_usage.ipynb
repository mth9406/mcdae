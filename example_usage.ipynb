{
 "cells": [
  {
   "cell_type": "code",
   "execution_count": 1,
   "metadata": {},
   "outputs": [
    {
     "name": "stdout",
     "output_type": "stream",
     "text": [
      "usage: main.py [-h] [--dataset_path DATASET_PATH] [--test_size TEST_SIZE]\n",
      "               [--normalize] [--batch_size BATCH_SIZE] [--epoch EPOCH]\n",
      "               [--lr LR] [--patience PATIENCE] [--delta DELTA]\n",
      "               [--model_path MODEL_PATH] [--print_log_option PRINT_LOG_OPTION]\n",
      "               [--in_features IN_FEATURES] [--latent_dim LATENT_DIM]\n",
      "               [--n_targets N_TARGETS] [--n_labels N_LABELS] [--drop_p DROP_P]\n",
      "               [--noise_scale NOISE_SCALE]\n",
      "\n",
      "optional arguments:\n",
      "  -h, --help            show this help message and exit\n",
      "  --dataset_path DATASET_PATH\n",
      "                        dataset directory path: data/elec/train.csv\n",
      "  --test_size TEST_SIZE\n",
      "                        test size when splitting the data (float type)\n",
      "  --normalize           normailze data\n",
      "  --batch_size BATCH_SIZE\n",
      "                        input batch size\n",
      "  --epoch EPOCH         the number of epochs to train for\n",
      "  --lr LR               learning rate\n",
      "  --patience PATIENCE   patience of early stopping condition\n",
      "  --delta DELTA         significant improvement to update a model\n",
      "  --model_path MODEL_PATH\n",
      "                        a path to sava a model\n",
      "  --print_log_option PRINT_LOG_OPTION\n",
      "                        print training loss every print_log_option\n",
      "  --in_features IN_FEATURES\n",
      "                        input features\n",
      "  --latent_dim LATENT_DIM\n",
      "                        latent vector dimension\n",
      "  --n_targets N_TARGETS\n",
      "                        the number of targets (tasks)\n",
      "  --n_labels N_LABELS   list of the number of labels of each target (task)\n",
      "  --drop_p DROP_P       drop out rate in the encoder and decoder layer\n",
      "  --noise_scale NOISE_SCALE\n",
      "                        scale noise\n"
     ]
    }
   ],
   "source": [
    "!python main.py --help"
   ]
  },
  {
   "cell_type": "code",
   "execution_count": 1,
   "metadata": {},
   "outputs": [
    {
     "name": "stdout",
     "output_type": "stream",
     "text": [
      "Namespace(batch_size=1024, dataset_path='./data/elec/samples.csv', delta=0.0, drop_p=0.2, epoch=1, in_features=8, latent_dim=16, lr=0.01, model_path='./model0', model_type=0, n_labels=[3, 3, 3], n_targets=3, noise_scale=0.01, normalize=True, patience=10, print_log_option=1000, recon_penalty=0.01, test_size=0.3, val_size=0.1)\n",
      "Making a path to save the model...\n",
      "Loading data...\n",
      "<class 'pandas.core.frame.DataFrame'>\n",
      "RangeIndex: 725296 entries, 0 to 725295\n",
      "Data columns (total 26 columns):\n",
      " #   Column         Non-Null Count   Dtype  \n",
      "---  ------         --------------   -----  \n",
      " 0   누적전력량          725296 non-null  float64\n",
      " 1   유효전력평균         725296 non-null  float64\n",
      " 2   무효전력평균         725296 non-null  float64\n",
      " 3   주파수            725296 non-null  float64\n",
      " 4   전류평균           725296 non-null  float64\n",
      " 5   상전압평균          725296 non-null  float64\n",
      " 6   선간전압평균         725296 non-null  float64\n",
      " 7   온도             725296 non-null  float64\n",
      " 8   R상유효전력         725296 non-null  float64\n",
      " 9   R상무효전력         725296 non-null  float64\n",
      " 10  R상전류           725296 non-null  float64\n",
      " 11  R상전압           725296 non-null  float64\n",
      " 12  R상선간전압         725296 non-null  float64\n",
      " 13  S상유효전력         725296 non-null  float64\n",
      " 14  S상무효전력         725296 non-null  float64\n",
      " 15  S상전류           725296 non-null  float64\n",
      " 16  S상전압           725296 non-null  float64\n",
      " 17  S상선간전압         725296 non-null  float64\n",
      " 18  T상유효전력         725296 non-null  float64\n",
      " 19  T상무효전력         725296 non-null  float64\n",
      " 20  T상전류           725296 non-null  float64\n",
      " 21  T상전압           725296 non-null  float64\n",
      " 22  T상선간전압         725296 non-null  float64\n",
      " 23  label_역률평균     725296 non-null  object \n",
      " 24  label_전류고조파평균  725296 non-null  object \n",
      " 25  label_전압고조파평균  725296 non-null  object \n",
      "dtypes: float64(23), object(3)\n",
      "memory usage: 143.9+ MB\n",
      "None\n",
      "--------------------\n",
      "Loading data done!\n",
      "Start training...\n",
      "Epoch [1/1]: training loss= 2.085843, validation loss= 1.692476\n",
      "Validation loss decreased: inf --> 1.6925. Saving model...\n",
      "Training done! Saving logs...\n",
      "Testing the model...\n",
      "Test done!\n",
      "Figure(640x480)\n",
      "정확도 (accuracy): 0.89\n",
      "재현율 (recall): 0.89\n",
      "정밀도 (precision): 0.92\n",
      "F1 score: 0.90\n",
      "\n",
      "Figure(640x480)\n",
      "정확도 (accuracy): 0.78\n",
      "재현율 (recall): 0.78\n",
      "정밀도 (precision): 0.88\n",
      "F1 score: 0.80\n",
      "\n",
      "Figure(640x480)\n",
      "정확도 (accuracy): 0.59\n",
      "재현율 (recall): 0.59\n",
      "정밀도 (precision): 0.61\n",
      "F1 score: 0.59\n",
      "\n"
     ]
    },
    {
     "name": "stderr",
     "output_type": "stream",
     "text": [
      "findfont: Font family ['NanumGothic'] not found. Falling back to DejaVu Sans.\n"
     ]
    }
   ],
   "source": [
    "!python main.py --dataset_path \"./data/elec/samples.csv\" --test_size 0.3 --val_size 0.1 --normalize --model_path \"./model0\" --model_type 0 --latent_dim 16 --batch_size 1024 --epoch 1 --lr 1e-2 --patience 10 --delta 0 --print_log_option 1000 --n_labels [3,3,3] --drop_p 0.2 --noise_scale 1e-2"
   ]
  }
 ],
 "metadata": {
  "interpreter": {
   "hash": "f08154012ddadd8e950e6e9e035c7a7b32c136e7647e9b7c77e02eb723a8bedb"
  },
  "kernelspec": {
   "display_name": "Python 3.8.5 ('base')",
   "language": "python",
   "name": "python3"
  },
  "language_info": {
   "codemirror_mode": {
    "name": "ipython",
    "version": 3
   },
   "file_extension": ".py",
   "mimetype": "text/x-python",
   "name": "python",
   "nbconvert_exporter": "python",
   "pygments_lexer": "ipython3",
   "version": "3.8.5"
  },
  "orig_nbformat": 4
 },
 "nbformat": 4,
 "nbformat_minor": 2
}
